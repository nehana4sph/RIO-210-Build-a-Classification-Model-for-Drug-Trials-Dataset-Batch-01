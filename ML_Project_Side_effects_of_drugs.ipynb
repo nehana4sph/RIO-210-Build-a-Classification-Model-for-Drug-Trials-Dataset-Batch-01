{
  "nbformat": 4,
  "nbformat_minor": 0,
  "metadata": {
    "colab": {
      "provenance": [],
      "toc_visible": true,
      "include_colab_link": true
    },
    "kernelspec": {
      "name": "python3",
      "display_name": "Python 3"
    }
  },
  "cells": [
    {
      "cell_type": "markdown",
      "metadata": {
        "id": "view-in-github",
        "colab_type": "text"
      },
      "source": [
        "<a href=\"https://colab.research.google.com/github/nehana4sph/RIO-210-Build-a-Classification-Model-for-Drug-Trials-Dataset-Batch-01/blob/main/ML_Project_Side_effects_of_drugs.ipynb\" target=\"_parent\"><img src=\"https://colab.research.google.com/assets/colab-badge.svg\" alt=\"Open In Colab\"/></a>"
      ]
    },
    {
      "cell_type": "code",
      "metadata": {
        "id": "tdNyIsbMV73z"
      },
      "source": [],
      "execution_count": null,
      "outputs": []
    },
    {
      "cell_type": "markdown",
      "metadata": {
        "id": "x5aULCZUgah2"
      },
      "source": [
        "**Step wise solution**\n",
        "\n",
        "\n",
        "1.   Import libraries and load data file\n",
        "\n",
        "**Perform the following EDA**\n",
        "\n",
        "2. List 15 rows of your data\n",
        "3. Check the ratings of the drugs\n",
        "4. Check the effectivness of the drugs\n",
        "5. Check the conditions cured by the drugs\n",
        "6. Transform/ Scale your data\n",
        "7. Split your data into train and test\n",
        "8. Train your model with training data and test the results using testing set\n",
        "9. Test multiple model and finalize the best one\n",
        "\n",
        "\n"
      ]
    },
    {
      "cell_type": "markdown",
      "metadata": {
        "id": "sOkXIQuRgU8s"
      },
      "source": [
        "**Step 1 - Importing libraries and loading datafile**"
      ]
    },
    {
      "cell_type": "code",
      "metadata": {
        "id": "Zcj_bfuhgQ13"
      },
      "source": [
        "#@title Default title text\n",
        "import pandas as pd \n",
        "import numpy as np \n",
        "from sklearn.svm import SVC\n",
        "from sklearn.ensemble import RandomForestClassifier\n",
        "from sklearn.model_selection import train_test_split\n",
        "from sklearn.preprocessing import StandardScaler\n",
        "from sklearn.metrics import classification_report\n",
        "\n",
        "import matplotlib.pyplot as plt\n",
        "\n",
        "# lets load and read the file\n",
        "\n",
        "df = pd.read_csv('drugEffects.csv').drop(columns=['Unnamed: 0'])\n",
        "df.head()"
      ],
      "execution_count": null,
      "outputs": []
    },
    {
      "cell_type": "markdown",
      "metadata": {
        "id": "Cuk1FVh8kN9_"
      },
      "source": [
        "**2. List 15 rows of your data**"
      ]
    },
    {
      "cell_type": "code",
      "metadata": {
        "colab": {
          "base_uri": "https://localhost:8080/",
          "height": 498
        },
        "id": "_aPYYt1XbYr2",
        "outputId": "cb47488e-1f23-463b-a3c5-1e9878678041"
      },
      "source": [
        "df[['urlDrugName', 'condition']].head(15)"
      ],
      "execution_count": null,
      "outputs": [
        {
          "output_type": "execute_result",
          "data": {
            "text/html": [
              "<div>\n",
              "<style scoped>\n",
              "    .dataframe tbody tr th:only-of-type {\n",
              "        vertical-align: middle;\n",
              "    }\n",
              "\n",
              "    .dataframe tbody tr th {\n",
              "        vertical-align: top;\n",
              "    }\n",
              "\n",
              "    .dataframe thead th {\n",
              "        text-align: right;\n",
              "    }\n",
              "</style>\n",
              "<table border=\"1\" class=\"dataframe\">\n",
              "  <thead>\n",
              "    <tr style=\"text-align: right;\">\n",
              "      <th></th>\n",
              "      <th>urlDrugName</th>\n",
              "      <th>condition</th>\n",
              "    </tr>\n",
              "  </thead>\n",
              "  <tbody>\n",
              "    <tr>\n",
              "      <th>0</th>\n",
              "      <td>enalapril</td>\n",
              "      <td>management of congestive heart failure</td>\n",
              "    </tr>\n",
              "    <tr>\n",
              "      <th>1</th>\n",
              "      <td>ortho-tri-cyclen</td>\n",
              "      <td>birth prevention</td>\n",
              "    </tr>\n",
              "    <tr>\n",
              "      <th>2</th>\n",
              "      <td>ponstel</td>\n",
              "      <td>menstrual cramps</td>\n",
              "    </tr>\n",
              "    <tr>\n",
              "      <th>3</th>\n",
              "      <td>prilosec</td>\n",
              "      <td>acid reflux</td>\n",
              "    </tr>\n",
              "    <tr>\n",
              "      <th>4</th>\n",
              "      <td>lyrica</td>\n",
              "      <td>fibromyalgia</td>\n",
              "    </tr>\n",
              "    <tr>\n",
              "      <th>5</th>\n",
              "      <td>propecia</td>\n",
              "      <td>hair loss</td>\n",
              "    </tr>\n",
              "    <tr>\n",
              "      <th>6</th>\n",
              "      <td>vyvanse</td>\n",
              "      <td>add</td>\n",
              "    </tr>\n",
              "    <tr>\n",
              "      <th>7</th>\n",
              "      <td>elavil</td>\n",
              "      <td>depression</td>\n",
              "    </tr>\n",
              "    <tr>\n",
              "      <th>8</th>\n",
              "      <td>xanax</td>\n",
              "      <td>panic disorder</td>\n",
              "    </tr>\n",
              "    <tr>\n",
              "      <th>9</th>\n",
              "      <td>claritin</td>\n",
              "      <td>allergies</td>\n",
              "    </tr>\n",
              "    <tr>\n",
              "      <th>10</th>\n",
              "      <td>flagyl</td>\n",
              "      <td>bacterial vaginosis</td>\n",
              "    </tr>\n",
              "    <tr>\n",
              "      <th>11</th>\n",
              "      <td>dextroamphetamine</td>\n",
              "      <td>add</td>\n",
              "    </tr>\n",
              "    <tr>\n",
              "      <th>12</th>\n",
              "      <td>sarafem</td>\n",
              "      <td>depression</td>\n",
              "    </tr>\n",
              "    <tr>\n",
              "      <th>13</th>\n",
              "      <td>latisse</td>\n",
              "      <td>sparse eyelashes</td>\n",
              "    </tr>\n",
              "    <tr>\n",
              "      <th>14</th>\n",
              "      <td>aldara</td>\n",
              "      <td>skin cancer</td>\n",
              "    </tr>\n",
              "  </tbody>\n",
              "</table>\n",
              "</div>"
            ],
            "text/plain": [
              "          urlDrugName                               condition\n",
              "0           enalapril  management of congestive heart failure\n",
              "1    ortho-tri-cyclen                        birth prevention\n",
              "2             ponstel                        menstrual cramps\n",
              "3            prilosec                             acid reflux\n",
              "4              lyrica                            fibromyalgia\n",
              "5            propecia                               hair loss\n",
              "6             vyvanse                                     add\n",
              "7              elavil                              depression\n",
              "8               xanax                          panic disorder\n",
              "9            claritin                               allergies\n",
              "10             flagyl                     bacterial vaginosis\n",
              "11  dextroamphetamine                                     add\n",
              "12            sarafem                              depression\n",
              "13            latisse                        sparse eyelashes\n",
              "14             aldara                             skin cancer"
            ]
          },
          "metadata": {
            "tags": []
          },
          "execution_count": 3
        }
      ]
    },
    {
      "cell_type": "markdown",
      "metadata": {
        "id": "MoKLv6ixk38u"
      },
      "source": [
        "**3. Check the ratings of the drugs**"
      ]
    },
    {
      "cell_type": "code",
      "metadata": {
        "colab": {
          "base_uri": "https://localhost:8080/",
          "height": 477
        },
        "id": "RvAMU53SV_hS",
        "outputId": "4148ce76-54c7-40dd-f8a5-772cdecd5506"
      },
      "source": [
        "# lets check the list of drugs availabe (top 10)\n",
        "\n",
        "df['urlDrugName'].value_counts().head(15).plot(kind='bar')\n",
        "plt.rcParams['figure.figsize'] = (10,7)\n",
        "plt.show()"
      ],
      "execution_count": null,
      "outputs": [
        {
          "output_type": "display_data",
          "data": {
            "image/png": "[encoded data removed]",
            "text/plain": [
              "<Figure size 720x504 with 1 Axes>"
            ]
          },
          "metadata": {
            "tags": [],
            "needs_background": "light"
          }
        }
      ]
    },
    {
      "cell_type": "code",
      "metadata": {
        "colab": {
          "base_uri": "https://localhost:8080/",
          "height": 445
        },
        "id": "ats5DTfFWQ0T",
        "outputId": "1e3a6243-773a-4566-f671-62795dbef6d2"
      },
      "source": [
        "# lets check the ratings of the drugs \n",
        "\n",
        "df['rating'].value_counts().plot(kind='bar')\n",
        "plt.xlabel('ratings')\n",
        "plt.show()"
      ],
      "execution_count": null,
      "outputs": [
        {
          "output_type": "display_data",
          "data": {
            "image/png": "[encoded data removed]",
            "text/plain": [
              "<Figure size 720x504 with 1 Axes>"
            ]
          },
          "metadata": {
            "tags": [],
            "needs_background": "light"
          }
        }
      ]
    },
    {
      "cell_type": "markdown",
      "metadata": {
        "id": "e5X-n002lPbf"
      },
      "source": [
        "**4. Check the effectivness of the drugs**"
      ]
    },
    {
      "cell_type": "code",
      "metadata": {
        "colab": {
          "base_uri": "https://localhost:8080/",
          "height": 411
        },
        "id": "F8MMEuouXEtB",
        "outputId": "20cc4a8c-5651-4d4d-94ba-d112c56b4ac3"
      },
      "source": [
        "# lets check the effectiveness of the drugs\n",
        "\n",
        "df['effectiveness'].value_counts().plot(kind='pie')\n",
        "plt.show()"
      ],
      "execution_count": null,
      "outputs": [
        {
          "output_type": "display_data",
          "data": {
            "image/png": "[encoded data removed]",
            "text/plain": [
              "<Figure size 720x504 with 1 Axes>"
            ]
          },
          "metadata": {
            "tags": []
          }
        }
      ]
    },
    {
      "cell_type": "code",
      "metadata": {
        "colab": {
          "base_uri": "https://localhost:8080/"
        },
        "id": "LQXaX-HZc8aT",
        "outputId": "c908d1a1-0460-408d-da62-333e17ad12b1"
      },
      "source": [
        "df['condition'].value_counts()"
      ],
      "execution_count": null,
      "outputs": [
        {
          "output_type": "execute_result",
          "data": {
            "text/plain": [
              "depression                                           236\n",
              "acne                                                 165\n",
              "anxiety                                               63\n",
              "insomnia                                              54\n",
              "birth control                                         49\n",
              "                                                    ... \n",
              "for epilepsy                                           1\n",
              "hyperpigmentation, photoaging, mild hormonal acne      1\n",
              "prostatitis                                            1\n",
              "hypothryroid                                           1\n",
              "skin cancer                                            1\n",
              "Name: condition, Length: 1426, dtype: int64"
            ]
          },
          "metadata": {
            "tags": []
          },
          "execution_count": 5
        }
      ]
    },
    {
      "cell_type": "code",
      "metadata": {
        "colab": {
          "base_uri": "https://localhost:8080/",
          "height": 531
        },
        "id": "UZ_Nb5ZKXbBJ",
        "outputId": "7235f3d3-7f7b-4799-dc13-c1f9b871ce55"
      },
      "source": [
        "# lets check the various conditions the medicine cures (top 10) since they are over thousand\n",
        "\n",
        "df['condition'].value_counts().head(10).plot(kind='bar')\n",
        "plt.xlabel('condition')\n",
        "plt.show()"
      ],
      "execution_count": null,
      "outputs": [
        {
          "output_type": "display_data",
          "data": {
            "image/png": "[encoded data removed]",
            "text/plain": [
              "<Figure size 720x504 with 1 Axes>"
            ]
          },
          "metadata": {
            "tags": [],
            "needs_background": "light"
          }
        }
      ]
    },
    {
      "cell_type": "markdown",
      "metadata": {
        "id": "zPt13MCioz64"
      },
      "source": [
        "**5. Check the conditions cured by the drugs**"
      ]
    },
    {
      "cell_type": "code",
      "metadata": {
        "colab": {
          "base_uri": "https://localhost:8080/",
          "height": 248
        },
        "id": "Vw25PZhvXtkx",
        "outputId": "7ee11d8f-7034-43ab-8eb1-c0edbf41ffbb"
      },
      "source": [
        "# lets check our target variable 'sideEffects'\n",
        "\n",
        "df['sideEffects'].value_counts().plot(kind='pie')\n",
        "plt.ylabel('')\n",
        "plt.show()"
      ],
      "execution_count": null,
      "outputs": [
        {
          "output_type": "display_data",
          "data": {
            "image/png": "[encoded data removed]",
            "text/plain": [
              "<Figure size 432x288 with 1 Axes>"
            ]
          },
          "metadata": {
            "tags": []
          }
        }
      ]
    },
    {
      "cell_type": "code",
      "metadata": {
        "colab": {
          "base_uri": "https://localhost:8080/",
          "height": 198
        },
        "id": "AAV7q_d2YGiZ",
        "outputId": "2755f091-e595-4c8b-9ace-01780437e2e6"
      },
      "source": [
        "# put target into a seperate columns\n",
        "\n",
        "target = df.pop('sideEffects')\n",
        "df.head()"
      ],
      "execution_count": null,
      "outputs": [
        {
          "output_type": "execute_result",
          "data": {
            "text/html": [
              "<div>\n",
              "<style scoped>\n",
              "    .dataframe tbody tr th:only-of-type {\n",
              "        vertical-align: middle;\n",
              "    }\n",
              "\n",
              "    .dataframe tbody tr th {\n",
              "        vertical-align: top;\n",
              "    }\n",
              "\n",
              "    .dataframe thead th {\n",
              "        text-align: right;\n",
              "    }\n",
              "</style>\n",
              "<table border=\"1\" class=\"dataframe\">\n",
              "  <thead>\n",
              "    <tr style=\"text-align: right;\">\n",
              "      <th></th>\n",
              "      <th>urlDrugName</th>\n",
              "      <th>rating</th>\n",
              "      <th>effectiveness</th>\n",
              "      <th>condition</th>\n",
              "    </tr>\n",
              "  </thead>\n",
              "  <tbody>\n",
              "    <tr>\n",
              "      <th>0</th>\n",
              "      <td>enalapril</td>\n",
              "      <td>4</td>\n",
              "      <td>Highly Effective</td>\n",
              "      <td>management of congestive heart failure</td>\n",
              "    </tr>\n",
              "    <tr>\n",
              "      <th>1</th>\n",
              "      <td>ortho-tri-cyclen</td>\n",
              "      <td>1</td>\n",
              "      <td>Highly Effective</td>\n",
              "      <td>birth prevention</td>\n",
              "    </tr>\n",
              "    <tr>\n",
              "      <th>2</th>\n",
              "      <td>ponstel</td>\n",
              "      <td>10</td>\n",
              "      <td>Highly Effective</td>\n",
              "      <td>menstrual cramps</td>\n",
              "    </tr>\n",
              "    <tr>\n",
              "      <th>3</th>\n",
              "      <td>prilosec</td>\n",
              "      <td>3</td>\n",
              "      <td>Marginally Effective</td>\n",
              "      <td>acid reflux</td>\n",
              "    </tr>\n",
              "    <tr>\n",
              "      <th>4</th>\n",
              "      <td>lyrica</td>\n",
              "      <td>2</td>\n",
              "      <td>Marginally Effective</td>\n",
              "      <td>fibromyalgia</td>\n",
              "    </tr>\n",
              "  </tbody>\n",
              "</table>\n",
              "</div>"
            ],
            "text/plain": [
              "        urlDrugName  ...                               condition\n",
              "0         enalapril  ...  management of congestive heart failure\n",
              "1  ortho-tri-cyclen  ...                        birth prevention\n",
              "2           ponstel  ...                        menstrual cramps\n",
              "3          prilosec  ...                             acid reflux\n",
              "4            lyrica  ...                            fibromyalgia\n",
              "\n",
              "[5 rows x 4 columns]"
            ]
          },
          "metadata": {
            "tags": []
          },
          "execution_count": 8
        }
      ]
    },
    {
      "cell_type": "markdown",
      "metadata": {
        "id": "ALE_3Rdno9V3"
      },
      "source": [
        "**6. Transform/ Scale your data**"
      ]
    },
    {
      "cell_type": "code",
      "metadata": {
        "colab": {
          "base_uri": "https://localhost:8080/",
          "height": 198
        },
        "id": "waRK-TrXZGel",
        "outputId": "b335f471-92f1-45a2-9635-96d6b6236819"
      },
      "source": [
        "# lets convert categorical data to numeric\n",
        "\n",
        "cols = ['urlDrugName', 'effectiveness', 'condition']\n",
        "\n",
        "for x in cols:\n",
        "  df[x] = pd.factorize(df[x])[0]\n",
        "\n",
        "target = pd.factorize(target)[0]\n",
        "df.head()\n"
      ],
      "execution_count": null,
      "outputs": [
        {
          "output_type": "execute_result",
          "data": {
            "text/html": [
              "<div>\n",
              "<style scoped>\n",
              "    .dataframe tbody tr th:only-of-type {\n",
              "        vertical-align: middle;\n",
              "    }\n",
              "\n",
              "    .dataframe tbody tr th {\n",
              "        vertical-align: top;\n",
              "    }\n",
              "\n",
              "    .dataframe thead th {\n",
              "        text-align: right;\n",
              "    }\n",
              "</style>\n",
              "<table border=\"1\" class=\"dataframe\">\n",
              "  <thead>\n",
              "    <tr style=\"text-align: right;\">\n",
              "      <th></th>\n",
              "      <th>urlDrugName</th>\n",
              "      <th>rating</th>\n",
              "      <th>effectiveness</th>\n",
              "      <th>condition</th>\n",
              "    </tr>\n",
              "  </thead>\n",
              "  <tbody>\n",
              "    <tr>\n",
              "      <th>0</th>\n",
              "      <td>0</td>\n",
              "      <td>4</td>\n",
              "      <td>0</td>\n",
              "      <td>0</td>\n",
              "    </tr>\n",
              "    <tr>\n",
              "      <th>1</th>\n",
              "      <td>1</td>\n",
              "      <td>1</td>\n",
              "      <td>0</td>\n",
              "      <td>1</td>\n",
              "    </tr>\n",
              "    <tr>\n",
              "      <th>2</th>\n",
              "      <td>2</td>\n",
              "      <td>10</td>\n",
              "      <td>0</td>\n",
              "      <td>2</td>\n",
              "    </tr>\n",
              "    <tr>\n",
              "      <th>3</th>\n",
              "      <td>3</td>\n",
              "      <td>3</td>\n",
              "      <td>1</td>\n",
              "      <td>3</td>\n",
              "    </tr>\n",
              "    <tr>\n",
              "      <th>4</th>\n",
              "      <td>4</td>\n",
              "      <td>2</td>\n",
              "      <td>1</td>\n",
              "      <td>4</td>\n",
              "    </tr>\n",
              "  </tbody>\n",
              "</table>\n",
              "</div>"
            ],
            "text/plain": [
              "   urlDrugName  rating  effectiveness  condition\n",
              "0            0       4              0          0\n",
              "1            1       1              0          1\n",
              "2            2      10              0          2\n",
              "3            3       3              1          3\n",
              "4            4       2              1          4"
            ]
          },
          "metadata": {
            "tags": []
          },
          "execution_count": 9
        }
      ]
    },
    {
      "cell_type": "markdown",
      "metadata": {
        "id": "56moXMkEpDXN"
      },
      "source": [
        "**7. Split your data into train and test**"
      ]
    },
    {
      "cell_type": "code",
      "metadata": {
        "colab": {
          "base_uri": "https://localhost:8080/"
        },
        "id": "bTHJavcLdtj5",
        "outputId": "848bb6ea-f3ff-46fd-b22e-f2cd979b4641"
      },
      "source": [
        "# scaling the data before modelling\n",
        "\n",
        "scaler = StandardScaler()\n",
        "df = scaler.fit_transform(df)\n",
        "\n",
        "df"
      ],
      "execution_count": null,
      "outputs": [
        {
          "output_type": "execute_result",
          "data": {
            "text/plain": [
              "array([[-1.21297976, -1.02349444, -1.04689456, -0.94221638],\n",
              "       [-1.20449215, -2.04490682, -1.04689456, -0.93987936],\n",
              "       [-1.19600454,  1.01933033, -1.04689456, -0.93754234],\n",
              "       ...,\n",
              "       [ 0.35722814, -1.70443603, -0.41222112,  2.38803771],\n",
              "       [ 3.03931298,  0.33838874,  0.85712577, -0.67112201],\n",
              "       [ 1.16355111, -1.02349444,  1.49179921, -0.74123262]])"
            ]
          },
          "metadata": {
            "tags": []
          },
          "execution_count": 10
        }
      ]
    },
    {
      "cell_type": "markdown",
      "metadata": {
        "id": "Q_0RAw1_pKsn"
      },
      "source": [
        "**8. Train your model with training data and test the results using testing set**"
      ]
    },
    {
      "cell_type": "code",
      "metadata": {
        "id": "dyRyb15DdpL1"
      },
      "source": [
        "# splitting data into train and validation\n",
        "\n",
        "x_train, x_test, y_train, y_test = train_test_split(df, target, test_size=.3)"
      ],
      "execution_count": null,
      "outputs": []
    },
    {
      "cell_type": "markdown",
      "metadata": {
        "id": "Bm1_PHegpWfW"
      },
      "source": [
        "**9. Test multiple model and finalize the best one**"
      ]
    },
    {
      "cell_type": "code",
      "metadata": {
        "colab": {
          "base_uri": "https://localhost:8080/"
        },
        "id": "oVo9YHLbZcEr",
        "outputId": "84273116-0614-445d-dc1f-8824683167b4"
      },
      "source": [
        "# using svm\n",
        "\n",
        "svm_clf = SVC().fit(x_train, y_train)\n",
        "\n",
        "svm_pred = svm_clf.predict(x_test)\n",
        "\n",
        "print(classification_report(y_test, svm_pred))"
      ],
      "execution_count": null,
      "outputs": [
        {
          "output_type": "stream",
          "text": [
            "              precision    recall  f1-score   support\n",
            "\n",
            "           0       0.44      0.51      0.47       301\n",
            "           1       0.43      0.53      0.47       118\n",
            "           2       0.54      0.57      0.55       276\n",
            "           3       0.32      0.17      0.22        54\n",
            "           4       0.46      0.29      0.35       184\n",
            "\n",
            "    accuracy                           0.47       933\n",
            "   macro avg       0.44      0.41      0.41       933\n",
            "weighted avg       0.46      0.47      0.46       933\n",
            "\n"
          ],
          "name": "stdout"
        }
      ]
    },
    {
      "cell_type": "code",
      "metadata": {
        "colab": {
          "base_uri": "https://localhost:8080/"
        },
        "id": "YiS4NTRgaf5_",
        "outputId": "87f5da7b-99c2-4fe3-eaea-ab9ba786b7da"
      },
      "source": [
        "# using random forest \n",
        "\n",
        "rf_clf = RandomForestClassifier().fit(x_train, y_train)\n",
        "\n",
        "rf_pred = rf_clf.predict(x_test)\n",
        "\n",
        "print(classification_report(y_test, rf_pred))"
      ],
      "execution_count": null,
      "outputs": [
        {
          "output_type": "stream",
          "text": [
            "              precision    recall  f1-score   support\n",
            "\n",
            "           0       0.40      0.53      0.46       228\n",
            "           1       0.33      0.29      0.31        95\n",
            "           2       0.60      0.46      0.52       256\n",
            "           3       0.39      0.57      0.46        37\n",
            "           4       0.39      0.34      0.36       161\n",
            "\n",
            "    accuracy                           0.44       777\n",
            "   macro avg       0.42      0.44      0.42       777\n",
            "weighted avg       0.45      0.44      0.44       777\n",
            "\n"
          ],
          "name": "stdout"
        }
      ]
    },
    {
      "cell_type": "code",
      "metadata": {
        "id": "G92_3ARVerY4"
      },
      "source": [],
      "execution_count": null,
      "outputs": []
    }
  ]
}